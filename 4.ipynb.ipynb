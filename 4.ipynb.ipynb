{
 "cells": [
  {
   "cell_type": "code",
   "execution_count": null,
   "metadata": {},
   "outputs": [],
   "source": [
    "clients = [\n",
    "    {\"ім’я\": \"Іван\", \"сума угоди\": 50, \"статус перевірки\": \"clean\"},\n",
    "    {\"ім’я\": \"Марія\", \"сума угоди\": 500, \"статус перевірки\": \"suspicious\"},\n",
    "    {\"ім’я\": \"Олег\", \"сума угоди\": 1500, \"статус перевірки\": \"fraud\"},\n",
    "    {\"ім’я\": \"Аня\", \"сума угоди\": \"??\", \"статус перевірки\": \"clean\"},\n",
    "    {\"ім’я\": \"Сергій\", \"сума угоди\": 700, \"статус перевірки\": \"wtf\"},\n",
    "]\n",
    "\n",
    "results = []\n",
    "\n",
    "for client in clients:\n",
    "    name = client.get(\"ім’я\")\n",
    "    amount = client.get(\"сума угоди\")\n",
    "    status = client.get(\"статус перевірки\")\n",
    "\n",
    "    if not isinstance(amount, (int, float)):\n",
    "        results.append(f\"{name}: Фальшиві дані\")\n",
    "        continue\n",
    "\n",
    "    if amount < 100:\n",
    "        category = \"Дрібнота\"\n",
    "    elif amount < 1000:\n",
    "        category = \"Середнячок\"\n",
    "    else:\n",
    "        category = \"Великий клієнт\"\n",
    "\n",
    "    match status:\n",
    "        case \"clean\":\n",
    "            decision = \"Працювати без питань\"\n",
    "        case \"suspicious\":\n",
    "            decision = \"Перевірити документи\"\n",
    "        case \"fraud\":\n",
    "            decision = \"У чорний список\"\n",
    "        case _:\n",
    "            decision = \"Невідомий статус\"\n",
    "\n",
    "    results.append(f\"{name}: {category}, {decision}\")\n",
    "\n",
    "for r in results:\n",
    "    print(r)\n"
   ]
  }
 ],
 "metadata": {
  "language_info": {
   "name": "python"
  },
  "orig_nbformat": 4
 },
 "nbformat": 4,
 "nbformat_minor": 2
}
